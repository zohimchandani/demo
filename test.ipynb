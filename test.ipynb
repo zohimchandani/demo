{
 "cells": [
  {
   "cell_type": "code",
   "execution_count": 11,
   "metadata": {},
   "outputs": [
    {
     "name": "stdout",
     "output_type": "stream",
     "text": [
      "{ 00000:541 00001:94 00010:127 00011:22 00100:119 00101:22 00110:29 00111:3 01000:1 01010:1 10000:23 10001:5 10010:6 10011:3 10100:3 10101:1 }\n",
      "\n"
     ]
    }
   ],
   "source": [
    "import cudaq \n",
    "import numpy as np \n",
    "\n",
    "n_qubits = 5 \n",
    "\n",
    "theta_vals = np.random.rand(n_qubits)\n",
    "\n",
    "\n",
    "@cudaq.kernel\n",
    "def kernel(qubit_count: int, thetas: np.ndarray):\n",
    "\n",
    "    qubits = cudaq.qvector(qubit_count)\n",
    "    \n",
    "    for i in range(qubit_count):\n",
    "        \n",
    "        ry(thetas[i], qubits[i])\n",
    "        \n",
    "\n",
    "result = cudaq.sample(kernel, n_qubits, theta_vals)\n",
    "\n",
    "print(result)\n"
   ]
  },
  {
   "cell_type": "code",
   "execution_count": null,
   "metadata": {},
   "outputs": [],
   "source": []
  }
 ],
 "metadata": {
  "kernelspec": {
   "display_name": "Python 3",
   "language": "python",
   "name": "python3"
  },
  "language_info": {
   "codemirror_mode": {
    "name": "ipython",
    "version": 3
   },
   "file_extension": ".py",
   "mimetype": "text/x-python",
   "name": "python",
   "nbconvert_exporter": "python",
   "pygments_lexer": "ipython3",
   "version": "3.10.12"
  }
 },
 "nbformat": 4,
 "nbformat_minor": 2
}
