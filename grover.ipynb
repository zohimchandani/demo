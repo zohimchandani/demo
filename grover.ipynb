{
 "cells": [
  {
   "cell_type": "code",
   "execution_count": null,
   "metadata": {},
   "outputs": [
    {
     "name": "stdout",
     "output_type": "stream",
     "text": [
      "{ 011:458 101:542 }\n",
      "\n"
     ]
    },
    {
     "data": {
      "image/png": "[encoded data removed]",
      "text/plain": [
       "<Figure size 640x480 with 1 Axes>"
      ]
     },
     "metadata": {},
     "output_type": "display_data"
    }
   ],
   "source": [
    "import cudaq\n",
    "from typing import Callable\n",
    "import matplotlib.pyplot as plt\n",
    "\n",
    "n_qubits = 3 \n",
    "M = 1 # number of iterations\n",
    "\n",
    "@cudaq.kernel\n",
    "def reflect(qubits: cudaq.qview):\n",
    "    ctrls = qubits.front(qubits.size() - 1)\n",
    "    last = qubits.back()\n",
    "    cudaq.compute_action(lambda: (h(qubits), x(qubits)),\n",
    "                          lambda: z.ctrl(ctrls, last))\n",
    "\n",
    "@cudaq.kernel\n",
    "def oracle(q: cudaq.qview):\n",
    "    z.ctrl(q[0], q[2])\n",
    "    z.ctrl(q[1], q[2])\n",
    "\n",
    "@cudaq.kernel\n",
    "def grover(N: int, M: int, oracle: Callable[[cudaq.qview], None]):\n",
    "    q = cudaq.qvector(N)\n",
    "    h(q)\n",
    "    for i in range(M):\n",
    "        oracle(q)\n",
    "        reflect(q)\n",
    "    mz(q)\n",
    "    \n",
    "counts = cudaq.sample(grover, n_qubits, M, oracle, shots_count=10**3)\n",
    "\n",
    "print(counts)\n",
    "\n",
    "sorted_counts = dict(sorted(counts.items()))\n",
    "bitstrings = list(sorted_counts.keys())\n",
    "frequencies = list(sorted_counts.values())\n",
    "plt.bar(range(len(bitstrings)), frequencies)\n",
    "plt.xticks(range(len(bitstrings)), bitstrings, rotation='vertical', fontsize=6)\n",
    "plt.tight_layout()\n",
    "plt.show()\n"
   ]
  },
  {
   "cell_type": "code",
   "execution_count": null,
   "metadata": {},
   "outputs": [],
   "source": []
  }
 ],
 "metadata": {
  "kernelspec": {
   "display_name": "Python 3",
   "language": "python",
   "name": "python3"
  },
  "language_info": {
   "codemirror_mode": {
    "name": "ipython",
    "version": 3
   },
   "file_extension": ".py",
   "mimetype": "text/x-python",
   "name": "python",
   "nbconvert_exporter": "python",
   "pygments_lexer": "ipython3",
   "version": "3.10.12"
  }
 },
 "nbformat": 4,
 "nbformat_minor": 2
}
